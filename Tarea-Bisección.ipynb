{
 "cells": [
  {
   "cell_type": "code",
   "execution_count": 2,
   "metadata": {},
   "outputs": [],
   "source": [
    "import numpy as np\n",
    "import matplotlib.pyplot as plt"
   ]
  },
  {
   "cell_type": "code",
   "execution_count": 3,
   "metadata": {},
   "outputs": [],
   "source": [
    "u=2510 #m/s\n",
    "m_0=2.8e6 #kg\n",
    "m=13.3e3 #kg\n",
    "g=9.8 #m/s^2\n",
    "\n",
    "def f(t):\n",
    "    funcion=-u*np.log(m_0/(m_0 - m*t)) + g*t + 335 #Donde 335 es la velocidad en la cuál queremos conocer t\n",
    "    return(funcion)\n",
    "def sign(x):\n",
    "    if x>0:\n",
    "        return 1\n",
    "    elif(x<0):\n",
    "        return -1\n",
    "    else:\n",
    "        return 0"
   ]
  },
  {
   "cell_type": "code",
   "execution_count": 8,
   "metadata": {},
   "outputs": [
    {
     "data": {
      "image/png": "[encoded data removed]",
      "text/plain": [
       "<Figure size 432x288 with 1 Axes>"
      ]
     },
     "metadata": {},
     "output_type": "display_data"
    }
   ],
   "source": [
    "x=np.arange(60,80,0.01)\n",
    "funcion=f(x)\n",
    "plt.plot(x,funcion)\n",
    "plt.ylim(-1,1)\n",
    "plt.show()"
   ]
  },
  {
   "cell_type": "code",
   "execution_count": 14,
   "metadata": {},
   "outputs": [
    {
     "name": "stdout",
     "output_type": "stream",
     "text": [
      "Tiempo que tarda en alcanzar v=335m/s: t=70.79121s\n"
     ]
    }
   ],
   "source": [
    "ai=65\n",
    "bi=75\n",
    "tol=1e-6\n",
    "error=1\n",
    "Nmax=1000\n",
    "it=0\n",
    "\n",
    "if(sign(f(ai))*sign(f(bi))<0):\n",
    "    while(error>tol):\n",
    "        p_n=(ai+bi)*0.5\n",
    "        p_previo=p_n\n",
    "        if(sign(f(p_n))==sign(f(ai))):\n",
    "            ai=p_n\n",
    "        elif(sign(f(p_n))==sign(f(bi))):\n",
    "            bi=p_n\n",
    "        p_n=0.5*(ai+bi)\n",
    "        error=abs((p_n-p_previo)/p_n)\n",
    "        it=it+1\n",
    "        if(it>Nmax):\n",
    "            print(\"Método no converge\")\n",
    "            break\n",
    "print(\"Tiempo que tarda en alcanzar v=335m/s: t=%.5fs\"%p_n)"
   ]
  },
  {
   "cell_type": "code",
   "execution_count": null,
   "metadata": {},
   "outputs": [],
   "source": []
  }
 ],
 "metadata": {
  "kernelspec": {
   "display_name": "Python 3",
   "language": "python",
   "name": "python3"
  },
  "language_info": {
   "codemirror_mode": {
    "name": "ipython",
    "version": 3
   },
   "file_extension": ".py",
   "mimetype": "text/x-python",
   "name": "python",
   "nbconvert_exporter": "python",
   "pygments_lexer": "ipython3",
   "version": "3.6.5"
  }
 },
 "nbformat": 4,
 "nbformat_minor": 2
}
