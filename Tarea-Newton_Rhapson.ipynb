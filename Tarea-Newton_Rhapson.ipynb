{
 "cells": [
  {
   "cell_type": "code",
   "execution_count": 1,
   "metadata": {},
   "outputs": [],
   "source": [
    "import numpy as np\n",
    "import matplotlib.pyplot as plt"
   ]
  },
  {
   "cell_type": "code",
   "execution_count": 2,
   "metadata": {},
   "outputs": [],
   "source": [
    "n=0.3\n",
    "gamma=5/3\n",
    "def f(a):\n",
    "    funcion=((np.log(a)-(1-(1/a)))/(np.log(a)+((1-(1/a))/(gamma-1))))-n\n",
    "    return(funcion)\n",
    "def dfda(a):\n",
    "    funcion=((1/a - 1/a**2)*(np.log(a)+((1 - 1/a)/(gamma-1))) - (np.log(a)-(1 - 1/a))*((1/a + 1/a**2)/(gamma - 1)))/(np.log(a) + ((1 - 1/a)/(gamma-1)))**2\n",
    "    return(funcion)"
   ]
  },
  {
   "cell_type": "code",
   "execution_count": 3,
   "metadata": {},
   "outputs": [
    {
     "name": "stderr",
     "output_type": "stream",
     "text": [
      "/usr/lib/python3/dist-packages/ipykernel_launcher.py:4: RuntimeWarning: invalid value encountered in true_divide\n",
      "  after removing the cwd from sys.path.\n"
     ]
    },
    {
     "data": {
      "image/png": "[encoded data removed]",
      "text/plain": [
       "<Figure size 432x288 with 1 Axes>"
      ]
     },
     "metadata": {},
     "output_type": "display_data"
    }
   ],
   "source": [
    "x=np.linspace(1,10,100)\n",
    "funcion=f(x)\n",
    "fig=plt.figure()\n",
    "ax=plt.axes()\n",
    "ax.plot(x,funcion)\n",
    "plt.ylim(-0.05,0.05)\n",
    "plt.show()"
   ]
  },
  {
   "cell_type": "code",
   "execution_count": 4,
   "metadata": {},
   "outputs": [],
   "source": [
    "tol=1e-6\n",
    "error=1.0\n",
    "Nmax=1000\n",
    "iteraciones=0\n",
    "p_prev=4"
   ]
  },
  {
   "cell_type": "code",
   "execution_count": 6,
   "metadata": {},
   "outputs": [
    {
     "name": "stdout",
     "output_type": "stream",
     "text": [
      "Valor hallado de T2/T1 para 0.3 de eficiencia = 5.41255\n"
     ]
    }
   ],
   "source": [
    "while(error>tol):\n",
    "    p_n=p_prev - (f(p_prev)/dfda(p_prev))\n",
    "    error=abs(p_n-p_prev)\n",
    "    p_prev=p_n\n",
    "    iteraciones=iteraciones+1\n",
    "    if(iteraciones>Nmax):\n",
    "        print(\"No converge\")\n",
    "        break\n",
    "print(\"Valor hallado de T2/T1 para 0.3 de eficiencia = %.5f\"%p_n)"
   ]
  },
  {
   "cell_type": "code",
   "execution_count": null,
   "metadata": {},
   "outputs": [],
   "source": []
  }
 ],
 "metadata": {
  "kernelspec": {
   "display_name": "Python 3",
   "language": "python",
   "name": "python3"
  },
  "language_info": {
   "codemirror_mode": {
    "name": "ipython",
    "version": 3
   },
   "file_extension": ".py",
   "mimetype": "text/x-python",
   "name": "python",
   "nbconvert_exporter": "python",
   "pygments_lexer": "ipython3",
   "version": "3.6.5"
  }
 },
 "nbformat": 4,
 "nbformat_minor": 2
}
