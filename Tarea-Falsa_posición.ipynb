{
 "cells": [
  {
   "cell_type": "code",
   "execution_count": 2,
   "metadata": {},
   "outputs": [],
   "source": [
    "import numpy as np\n",
    "import matplotlib.pyplot as plt"
   ]
  },
  {
   "cell_type": "code",
   "execution_count": 3,
   "metadata": {},
   "outputs": [],
   "source": [
    "g=32.17\n",
    "s_0=300\n",
    "m=0.25\n",
    "k=0.1\n",
    "s=0\n",
    "\n",
    "def f(t):\n",
    "    funcion=s_0 - m*g*t/k + ((m**2*g/k**2)*(1-np.e**(-k*t/m))) - s\n",
    "    return(funcion)\n",
    "def signo(x):   #Se realiza esta función con el objetivo de evitar un overflow o underflow a la hora de evaluar la condición del valor medio y también con respecto a la eficiencia de la máquina.\n",
    "    if f(x)>0:\n",
    "        return 1\n",
    "    elif f(x)<0:\n",
    "        return -1"
   ]
  },
  {
   "cell_type": "code",
   "execution_count": 19,
   "metadata": {},
   "outputs": [
    {
     "data": {
      "image/png": "[encoded data removed]",
      "text/plain": [
       "<Figure size 432x288 with 1 Axes>"
      ]
     },
     "metadata": {},
     "output_type": "display_data"
    }
   ],
   "source": [
    "x=np.arange(0,10,0.1)\n",
    "funcion=f(x)\n",
    "plt.plot(x,funcion)\n",
    "plt.show()"
   ]
  },
  {
   "cell_type": "code",
   "execution_count": 5,
   "metadata": {},
   "outputs": [],
   "source": [
    "tol=1e-6\n",
    "error=1.0\n",
    "Nmax=1000\n",
    "iteracion=0\n",
    "p_prev2=4\n",
    "p_prev1=8"
   ]
  },
  {
   "cell_type": "code",
   "execution_count": 8,
   "metadata": {},
   "outputs": [
    {
     "name": "stdout",
     "output_type": "stream",
     "text": [
      " Tiempo de caída=6.003726s\t\n"
     ]
    }
   ],
   "source": [
    "while(error>tol):\n",
    "    p_n=p_prev1 - ((p_prev1 - p_prev2)*f(p_prev1))/(f(p_prev1)-f(p_prev2))\n",
    "    error=abs(p_n-p_prev1)\n",
    "    if(signo(p_n)*signo(p_prev1)<0):\n",
    "        p_prev2=p_prev1\n",
    "        p_prev1=p_n\n",
    "    elif(signo(p_n)*signo(p_prev1)>0):\n",
    "        p_prev1=p_prev2\n",
    "        p_prev2=p_n\n",
    "    iteracion=iteracion+1\n",
    "    if(iteracion>Nmax):\n",
    "        print(\"NO converge\")\n",
    "        break\n",
    "print(\" Tiempo de caída=%.6fs\\t\"%(p_n))"
   ]
  }
 ],
 "metadata": {
  "kernelspec": {
   "display_name": "Python 3",
   "language": "python",
   "name": "python3"
  },
  "language_info": {
   "codemirror_mode": {
    "name": "ipython",
    "version": 3
   },
   "file_extension": ".py",
   "mimetype": "text/x-python",
   "name": "python",
   "nbconvert_exporter": "python",
   "pygments_lexer": "ipython3",
   "version": "3.6.5"
  }
 },
 "nbformat": 4,
 "nbformat_minor": 2
}
